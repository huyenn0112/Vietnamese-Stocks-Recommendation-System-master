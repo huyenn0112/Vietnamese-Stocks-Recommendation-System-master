{
 "cells": [
  {
   "cell_type": "code",
   "outputs": [],
   "source": [
    "import pandas as pd\n",
    "file_path = 'D:\\\\Study Program\\\\SPSS\\\\surveying.csv'\n",
    "df = pd.read_csv(file_path)"
   ],
   "metadata": {
    "collapsed": false,
    "ExecuteTime": {
     "end_time": "2024-05-31T11:13:37.883624Z",
     "start_time": "2024-05-31T11:13:37.865155Z"
    }
   },
   "id": "9a4b2ea2890e1fec",
   "execution_count": 2
  },
  {
   "cell_type": "code",
   "outputs": [],
   "source": [
    "import pandas as pd\n",
    "\n",
    "# Assuming df is your dataframe\n",
    "df.columns = [\n",
    "    \"Gender\", \"Age\", \"Education\", \"Household_Income\", \"Location\",\n",
    "    \"Utilitarian_Useful\", \"Utilitarian_Understand\", \"Hedonic_Entertaining\",\n",
    "    \"Hedonic_Fun\", \"Hedonic_Time_Killer\", \"Augmentation_Quality_Real\",\n",
    "    \"Augmentation_Quality_Shifted\", \"Augmentation_Quality_Display_Real\",\n",
    "    \"Augmentation_Real_Life_Necessity\", \"Augmentation_Real_Placement\",\n",
    "    \"Augmentation_Life_Necessity\", \"Augmentation_Movement\", \"Augmentation_Exist_Real_Time\",\n",
    "    \"Immersion_New_Environment\", \"Immersion_Unaware_Surroundings\",\n",
    "    \"Immersion_Mind_In_Show\", \"Immersion_Forget_Reality\", \"Immersion_Forget_Before_After\",\n",
    "    \"Immersion_Forget_Surroundings\", \"Product_Presence_Real\", \"Product_Presence_Shifted\",\n",
    "    \"Product_Presence_Mesh_Real\", \"Product_Presence_Action\", \"Product_Presence_Active\",\n",
    "    \"Product_Presence_Move\", \"Product_Presence_Do_Things\", \"Product_Presence_Do_Anything\",\n",
    "    \"Realism_Compare_Real_World\", \"Realism_Consistent_Real_World\", \"Realism_Looks_Real\",\n",
    "    \"Realism_Similar_In_Store\", \"Inspiration_Inspired\", \"Inspiration_Stimulated_Thinking\",\n",
    "    \"Inspiration_New_Ideas\", \"Attitude_AR_Good\", \"Attitude_AR_Positive\",\n",
    "    \"Attitude_AR_Met_Expectations\", \"Intention_Reuse_Shop_Product\",\n",
    "    \"Intention_Reuse_Shop_Gift\", \"Intention_Reuse_Future\", \"Brand_Attitude_Like\",\n",
    "    \"Brand_Attitude_Overall_Good\", \"Formal_Faith_Law\", \"Formal_Clear_Pathways\",\n",
    "    \"Formal_Secure_Job\", \"Formal_Striving_Advancement\", \"Formal_Respect_Law\",\n",
    "    \"Formal_Doing_Things_Right\", \"Formal_Responsibility\", \"Formal_Follow_Policies\",\n",
    "    \"Social_Close_Friends_Help\", \"Social_Important_Things_Friends\",\n",
    "    \"Social_Faith_Friends\", \"Social_Guided_Friends\", \"Social_Clarity_Colleagues\",\n",
    "    \"Social_Guided_Discussion\", \"Social_Sharing_Emotions\", \"Social_Growth_Sharing\",\n",
    "    \"AR_Operation_Familiarity\", \"Personal_Free_Decision\", \"Personal_Free_Choose\",\n",
    "    \"Personal_Guided_Knowledge\", \"Personal_Discover_Self\", \"Personal_Striving_Freedom\",\n",
    "    \"Personal_Experience_Emotions\", \"Personal_Important_Things\", \"Personal_Self_Responsibility\",\n",
    "    \"Buy_Product_Pay_Lot\", \"Buy_Product_High_Price\", \"Buy_Product_Spend_Money\",\n",
    "    \"Buy_Product_Top_Up\"\n",
    "]"
   ],
   "metadata": {
    "collapsed": false,
    "ExecuteTime": {
     "end_time": "2024-05-31T11:14:08.912839Z",
     "start_time": "2024-05-31T11:14:08.902496Z"
    }
   },
   "id": "fdf3ad068af639d",
   "execution_count": 5
  },
  {
   "cell_type": "code",
   "outputs": [],
   "source": [
    "df.to_csv(file_path, index = False)"
   ],
   "metadata": {
    "collapsed": false,
    "ExecuteTime": {
     "end_time": "2024-05-31T11:15:28.021155Z",
     "start_time": "2024-05-31T11:15:27.983288Z"
    }
   },
   "id": "3c34eb256404822",
   "execution_count": 7
  }
 ],
 "metadata": {
  "kernelspec": {
   "display_name": "Python 3",
   "language": "python",
   "name": "python3"
  },
  "language_info": {
   "codemirror_mode": {
    "name": "ipython",
    "version": 2
   },
   "file_extension": ".py",
   "mimetype": "text/x-python",
   "name": "python",
   "nbconvert_exporter": "python",
   "pygments_lexer": "ipython2",
   "version": "2.7.6"
  }
 },
 "nbformat": 4,
 "nbformat_minor": 5
}
